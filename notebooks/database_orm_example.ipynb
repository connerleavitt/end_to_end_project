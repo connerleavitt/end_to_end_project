{
 "cells": [
  {
   "cell_type": "code",
   "execution_count": 1,
   "metadata": {},
   "outputs": [],
   "source": [
    "# rootpath allows us to import from our database package from within directories\n",
    "import rootpath\n",
    "rootpath.append()\n",
    "from database import db_funcs"
   ]
  },
  {
   "cell_type": "markdown",
   "metadata": {},
   "source": [
    "### Using the ORM\n",
    "The ORM is structured to use Tweet objects (database/models.py) which have an attribute for each column in our database. We use the functions in database/crud.py to interact with the database. If we query the database, a list of Tweet objects will be returned. When we want to insert a tweet into our database, we create a Tweet object and pass it into the appropriate CRUD (create, read, update, delete) function. The database.db_funcs.py file contains simple functions that simplify the use of the CRUD functions."
   ]
  },
  {
   "cell_type": "code",
   "execution_count": 2,
   "metadata": {},
   "outputs": [
    {
     "data": {
      "text/plain": [
       "[]"
      ]
     },
     "execution_count": 2,
     "metadata": {},
     "output_type": "execute_result"
    }
   ],
   "source": [
    "# Queries the database for the first 100 rows\n",
    "db_funcs.get_tweets()"
   ]
  },
  {
   "cell_type": "code",
   "execution_count": 3,
   "metadata": {},
   "outputs": [
    {
     "data": {
      "text/plain": [
       "[Tweet(id: 1, text: Here is the first tweet, favorites: 5, is_retweet: False),\n",
       " Tweet(id: 2, text: This is the second, favorites: 30, is_retweet: True),\n",
       " Tweet(id: 3, text: I dont like twitter, favorites: 500, is_retweet: True),\n",
       " Tweet(id: 4, text: This is not a joke #funny, favorites: 0, is_retweet: False)]"
      ]
     },
     "execution_count": 3,
     "metadata": {},
     "output_type": "execute_result"
    }
   ],
   "source": [
    "# The db_funcs.post_tweets() function takes a list of dictionaries and creates the Tweet object for us\n",
    "tweets = [\n",
    "    {'text': 'Here is the first tweet', 'favorites': 5,'is_retweet': 0},\n",
    "    {'text': 'This is the second', 'favorites': 30,'is_retweet': 1},\n",
    "    {'text': 'I dont like twitter', 'favorites': 500,'is_retweet': 1},\n",
    "    {'text': 'This is not a joke #funny', 'favorites': 0,'is_retweet': 0}\n",
    "]\n",
    "# We add these 4 tweets to the database\n",
    "db_funcs.post_tweets(tweets)\n",
    "db_funcs.get_tweets()"
   ]
  },
  {
   "cell_type": "code",
   "execution_count": 4,
   "metadata": {},
   "outputs": [
    {
     "data": {
      "text/plain": [
       "Tweet(id: 3, text: I dont like twitter, favorites: 500, is_retweet: True)"
      ]
     },
     "execution_count": 4,
     "metadata": {},
     "output_type": "execute_result"
    }
   ],
   "source": [
    "# Qeries the database for a specific tweet specified by its id\n",
    "db_funcs.get_tweet(3)"
   ]
  },
  {
   "cell_type": "code",
   "execution_count": 5,
   "metadata": {},
   "outputs": [
    {
     "data": {
      "text/plain": [
       "[Tweet(id: 4, text: This is not a joke #funny, favorites: 0, is_retweet: False)]"
      ]
     },
     "execution_count": 5,
     "metadata": {},
     "output_type": "execute_result"
    }
   ],
   "source": [
    "# Delete the four tweets we added from the database\n",
    "db_funcs.remove_tweets([1, 2, 3])\n",
    "db_funcs.get_tweets()"
   ]
  },
  {
   "cell_type": "code",
   "execution_count": 6,
   "metadata": {},
   "outputs": [
    {
     "data": {
      "text/plain": [
       "[]"
      ]
     },
     "execution_count": 6,
     "metadata": {},
     "output_type": "execute_result"
    }
   ],
   "source": [
    "db_funcs.remove_tweets([4])\n",
    "db_funcs.get_tweets()"
   ]
  },
  {
   "cell_type": "code",
   "execution_count": null,
   "metadata": {},
   "outputs": [],
   "source": []
  }
 ],
 "metadata": {
  "kernelspec": {
   "display_name": "Python 3",
   "language": "python",
   "name": "python3"
  },
  "language_info": {
   "codemirror_mode": {
    "name": "ipython",
    "version": 3
   },
   "file_extension": ".py",
   "mimetype": "text/x-python",
   "name": "python",
   "nbconvert_exporter": "python",
   "pygments_lexer": "ipython3",
   "version": "3.8.5"
  }
 },
 "nbformat": 4,
 "nbformat_minor": 4
}
