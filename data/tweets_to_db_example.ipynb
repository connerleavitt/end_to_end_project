{
 "cells": [
  {
   "cell_type": "code",
   "execution_count": 1,
   "metadata": {},
   "outputs": [],
   "source": [
    "import rootpath\n",
    "rootpath.append()\n",
    "import time\n",
    "from db_funcs import search_tweets_to_db, user_tweets_to_db, get_tweets, remove_tweets, get_query, query_to_df, filter_db\n",
    "from database.models import Tweet"
   ]
  },
  {
   "cell_type": "markdown",
   "metadata": {},
   "source": [
    "The functions `user_tweets_to_db` and `search_tweets_to_db` retrieve tweets from Twitter's API, format them using Pandas, and insert them into the database using SQLAlchemy's ORM. Both functions have the same parameters:\n",
    "- `query` - Either the string query or the user's handle depending on the function used\n",
    "- `label` - 1 if the tweets are funny, 0 if they are not\n",
    "- `count` - The number of tweets to retrieve "
   ]
  },
  {
   "cell_type": "code",
   "execution_count": 2,
   "metadata": {},
   "outputs": [
    {
     "name": "stdout",
     "output_type": "stream",
     "text": [
      "Retrieving 1000 tweets from #funny...\n",
      "Tweets received. Formatting...\n",
      "Tweets formatted. Posting to database...\n",
      "39 tweets added database in 10.44520878791809 s\n",
      "Retrieving 100 tweets from @funnyoneliners...\n",
      "Tweets received. Formatting...\n",
      "Tweets formatted. Posting to database...\n",
      "50 tweets added database in 4.872699022293091 s\n"
     ]
    }
   ],
   "source": [
    "search_tweets_to_db('#funny', 1, 1000)\n",
    "user_tweets_to_db('funnyoneliners', 1, 100)"
   ]
  },
  {
   "cell_type": "code",
   "execution_count": 3,
   "metadata": {},
   "outputs": [
    {
     "data": {
      "text/plain": [
       "816"
      ]
     },
     "execution_count": 3,
     "metadata": {},
     "output_type": "execute_result"
    }
   ],
   "source": [
    "# The number of tweets in the database\n",
    "len(get_tweets(100000))"
   ]
  },
  {
   "cell_type": "code",
   "execution_count": 4,
   "metadata": {},
   "outputs": [
    {
     "data": {
      "text/plain": [
       "816"
      ]
     },
     "execution_count": 4,
     "metadata": {},
     "output_type": "execute_result"
    }
   ],
   "source": [
    "# Deletes any tweets matching any number of conditions such as blacklisted users/strings\n",
    "filter_db()\n",
    "len(get_tweets(100000))"
   ]
  },
  {
   "cell_type": "code",
   "execution_count": 5,
   "metadata": {},
   "outputs": [
    {
     "name": "stderr",
     "output_type": "stream",
     "text": [
      "100%|██████████| 50/50 [00:11<00:00,  4.51it/s]\n"
     ]
    },
    {
     "data": {
      "text/plain": [
       "766"
      ]
     },
     "execution_count": 5,
     "metadata": {},
     "output_type": "execute_result"
    }
   ],
   "source": [
    "# An example of removing any number of tweets by their id\n",
    "ids = [tweet.id for tweet in get_query().all()]\n",
    "remove_tweets(ids[:50])\n",
    "len(get_tweets(100000))"
   ]
  },
  {
   "cell_type": "code",
   "execution_count": 6,
   "metadata": {},
   "outputs": [
    {
     "data": {
      "text/html": [
       "<div>\n",
       "<style scoped>\n",
       "    .dataframe tbody tr th:only-of-type {\n",
       "        vertical-align: middle;\n",
       "    }\n",
       "\n",
       "    .dataframe tbody tr th {\n",
       "        vertical-align: top;\n",
       "    }\n",
       "\n",
       "    .dataframe thead th {\n",
       "        text-align: right;\n",
       "    }\n",
       "</style>\n",
       "<table border=\"1\" class=\"dataframe\">\n",
       "  <thead>\n",
       "    <tr style=\"text-align: right;\">\n",
       "      <th></th>\n",
       "      <th>id</th>\n",
       "      <th>text</th>\n",
       "      <th>user</th>\n",
       "      <th>search_query</th>\n",
       "      <th>favorite_count</th>\n",
       "      <th>retweet_count</th>\n",
       "      <th>follower_count</th>\n",
       "      <th>media</th>\n",
       "      <th>is_reply</th>\n",
       "      <th>is_retweet</th>\n",
       "      <th>has_mentions</th>\n",
       "      <th>is_funny</th>\n",
       "      <th>label_funny</th>\n",
       "    </tr>\n",
       "  </thead>\n",
       "  <tbody>\n",
       "    <tr>\n",
       "      <th>0</th>\n",
       "      <td>16947</td>\n",
       "      <td>Sorry if my political memes are too #funny for...</td>\n",
       "      <td>DankyBoi2020</td>\n",
       "      <td>#funny</td>\n",
       "      <td>0</td>\n",
       "      <td>0</td>\n",
       "      <td>9</td>\n",
       "      <td>False</td>\n",
       "      <td>False</td>\n",
       "      <td>False</td>\n",
       "      <td>False</td>\n",
       "      <td>True</td>\n",
       "      <td>None</td>\n",
       "    </tr>\n",
       "    <tr>\n",
       "      <th>1</th>\n",
       "      <td>16952</td>\n",
       "      <td>Ass so fat I need to spread my cheeks to fart ...</td>\n",
       "      <td>BrodogThe</td>\n",
       "      <td>#funny</td>\n",
       "      <td>0</td>\n",
       "      <td>0</td>\n",
       "      <td>75</td>\n",
       "      <td>False</td>\n",
       "      <td>False</td>\n",
       "      <td>False</td>\n",
       "      <td>False</td>\n",
       "      <td>True</td>\n",
       "      <td>None</td>\n",
       "    </tr>\n",
       "    <tr>\n",
       "      <th>2</th>\n",
       "      <td>16957</td>\n",
       "      <td>What does an archer tie a knot into?\\n.\\n.\\n.\\...</td>\n",
       "      <td>JokesJamie</td>\n",
       "      <td>#funny</td>\n",
       "      <td>1</td>\n",
       "      <td>0</td>\n",
       "      <td>12</td>\n",
       "      <td>False</td>\n",
       "      <td>False</td>\n",
       "      <td>False</td>\n",
       "      <td>False</td>\n",
       "      <td>True</td>\n",
       "      <td>None</td>\n",
       "    </tr>\n",
       "    <tr>\n",
       "      <th>3</th>\n",
       "      <td>16962</td>\n",
       "      <td>Wil Toledo? What about Won’t Toledo? 😂😂😂 #funn...</td>\n",
       "      <td>QuotesBot1</td>\n",
       "      <td>#funny</td>\n",
       "      <td>0</td>\n",
       "      <td>2</td>\n",
       "      <td>1843</td>\n",
       "      <td>False</td>\n",
       "      <td>False</td>\n",
       "      <td>True</td>\n",
       "      <td>False</td>\n",
       "      <td>True</td>\n",
       "      <td>None</td>\n",
       "    </tr>\n",
       "    <tr>\n",
       "      <th>4</th>\n",
       "      <td>16981</td>\n",
       "      <td>Chuck Norris does not follow fashion trends, t...</td>\n",
       "      <td>DosageOfJokes</td>\n",
       "      <td>#funny</td>\n",
       "      <td>0</td>\n",
       "      <td>0</td>\n",
       "      <td>14</td>\n",
       "      <td>False</td>\n",
       "      <td>False</td>\n",
       "      <td>False</td>\n",
       "      <td>False</td>\n",
       "      <td>True</td>\n",
       "      <td>None</td>\n",
       "    </tr>\n",
       "    <tr>\n",
       "      <th>...</th>\n",
       "      <td>...</td>\n",
       "      <td>...</td>\n",
       "      <td>...</td>\n",
       "      <td>...</td>\n",
       "      <td>...</td>\n",
       "      <td>...</td>\n",
       "      <td>...</td>\n",
       "      <td>...</td>\n",
       "      <td>...</td>\n",
       "      <td>...</td>\n",
       "      <td>...</td>\n",
       "      <td>...</td>\n",
       "      <td>...</td>\n",
       "    </tr>\n",
       "    <tr>\n",
       "      <th>137</th>\n",
       "      <td>17707</td>\n",
       "      <td>She's making a list\\nShe's checking it twice\\n...</td>\n",
       "      <td>Funnyoneliners</td>\n",
       "      <td>@funnyoneliners</td>\n",
       "      <td>0</td>\n",
       "      <td>266</td>\n",
       "      <td>1208178</td>\n",
       "      <td>False</td>\n",
       "      <td>False</td>\n",
       "      <td>True</td>\n",
       "      <td>False</td>\n",
       "      <td>True</td>\n",
       "      <td>None</td>\n",
       "    </tr>\n",
       "    <tr>\n",
       "      <th>138</th>\n",
       "      <td>17708</td>\n",
       "      <td>Oh good, an email from every single store or w...</td>\n",
       "      <td>Funnyoneliners</td>\n",
       "      <td>@funnyoneliners</td>\n",
       "      <td>0</td>\n",
       "      <td>986</td>\n",
       "      <td>1208178</td>\n",
       "      <td>False</td>\n",
       "      <td>False</td>\n",
       "      <td>True</td>\n",
       "      <td>False</td>\n",
       "      <td>True</td>\n",
       "      <td>None</td>\n",
       "    </tr>\n",
       "    <tr>\n",
       "      <th>139</th>\n",
       "      <td>17709</td>\n",
       "      <td>the price of my gym membership is just the fin...</td>\n",
       "      <td>Funnyoneliners</td>\n",
       "      <td>@funnyoneliners</td>\n",
       "      <td>0</td>\n",
       "      <td>1856</td>\n",
       "      <td>1208178</td>\n",
       "      <td>False</td>\n",
       "      <td>False</td>\n",
       "      <td>True</td>\n",
       "      <td>False</td>\n",
       "      <td>True</td>\n",
       "      <td>None</td>\n",
       "    </tr>\n",
       "    <tr>\n",
       "      <th>140</th>\n",
       "      <td>17710</td>\n",
       "      <td>i forgot to tell the human. what i wanted for ...</td>\n",
       "      <td>Funnyoneliners</td>\n",
       "      <td>@funnyoneliners</td>\n",
       "      <td>0</td>\n",
       "      <td>42831</td>\n",
       "      <td>1208178</td>\n",
       "      <td>False</td>\n",
       "      <td>False</td>\n",
       "      <td>True</td>\n",
       "      <td>False</td>\n",
       "      <td>True</td>\n",
       "      <td>None</td>\n",
       "    </tr>\n",
       "    <tr>\n",
       "      <th>141</th>\n",
       "      <td>17711</td>\n",
       "      <td>\"How was your day mom?\" is teenager for I need...</td>\n",
       "      <td>Funnyoneliners</td>\n",
       "      <td>@funnyoneliners</td>\n",
       "      <td>0</td>\n",
       "      <td>361</td>\n",
       "      <td>1208178</td>\n",
       "      <td>False</td>\n",
       "      <td>False</td>\n",
       "      <td>True</td>\n",
       "      <td>False</td>\n",
       "      <td>True</td>\n",
       "      <td>None</td>\n",
       "    </tr>\n",
       "  </tbody>\n",
       "</table>\n",
       "<p>142 rows × 13 columns</p>\n",
       "</div>"
      ],
      "text/plain": [
       "        id                                               text            user  \\\n",
       "0    16947  Sorry if my political memes are too #funny for...    DankyBoi2020   \n",
       "1    16952  Ass so fat I need to spread my cheeks to fart ...       BrodogThe   \n",
       "2    16957  What does an archer tie a knot into?\\n.\\n.\\n.\\...      JokesJamie   \n",
       "3    16962  Wil Toledo? What about Won’t Toledo? 😂😂😂 #funn...      QuotesBot1   \n",
       "4    16981  Chuck Norris does not follow fashion trends, t...   DosageOfJokes   \n",
       "..     ...                                                ...             ...   \n",
       "137  17707  She's making a list\\nShe's checking it twice\\n...  Funnyoneliners   \n",
       "138  17708  Oh good, an email from every single store or w...  Funnyoneliners   \n",
       "139  17709  the price of my gym membership is just the fin...  Funnyoneliners   \n",
       "140  17710  i forgot to tell the human. what i wanted for ...  Funnyoneliners   \n",
       "141  17711  \"How was your day mom?\" is teenager for I need...  Funnyoneliners   \n",
       "\n",
       "        search_query  favorite_count  retweet_count  follower_count  media  \\\n",
       "0             #funny               0              0               9  False   \n",
       "1             #funny               0              0              75  False   \n",
       "2             #funny               1              0              12  False   \n",
       "3             #funny               0              2            1843  False   \n",
       "4             #funny               0              0              14  False   \n",
       "..               ...             ...            ...             ...    ...   \n",
       "137  @funnyoneliners               0            266         1208178  False   \n",
       "138  @funnyoneliners               0            986         1208178  False   \n",
       "139  @funnyoneliners               0           1856         1208178  False   \n",
       "140  @funnyoneliners               0          42831         1208178  False   \n",
       "141  @funnyoneliners               0            361         1208178  False   \n",
       "\n",
       "     is_reply  is_retweet  has_mentions  is_funny label_funny  \n",
       "0       False       False         False      True        None  \n",
       "1       False       False         False      True        None  \n",
       "2       False       False         False      True        None  \n",
       "3       False        True         False      True        None  \n",
       "4       False       False         False      True        None  \n",
       "..        ...         ...           ...       ...         ...  \n",
       "137     False        True         False      True        None  \n",
       "138     False        True         False      True        None  \n",
       "139     False        True         False      True        None  \n",
       "140     False        True         False      True        None  \n",
       "141     False        True         False      True        None  \n",
       "\n",
       "[142 rows x 13 columns]"
      ]
     },
     "execution_count": 6,
     "metadata": {},
     "output_type": "execute_result"
    }
   ],
   "source": [
    "# A custom query is used to find all tweets without media that are not replies and put into a dataframe\n",
    "query_to_df(get_query().filter(Tweet.media == 0 and Tweet.is_reply == 0).all())"
   ]
  },
  {
   "cell_type": "code",
   "execution_count": null,
   "metadata": {},
   "outputs": [],
   "source": []
  }
 ],
 "metadata": {
  "kernelspec": {
   "display_name": "Python 3",
   "language": "python",
   "name": "python3"
  },
  "language_info": {
   "codemirror_mode": {
    "name": "ipython",
    "version": 3
   },
   "file_extension": ".py",
   "mimetype": "text/x-python",
   "name": "python",
   "nbconvert_exporter": "python",
   "pygments_lexer": "ipython3",
   "version": "3.8.5"
  }
 },
 "nbformat": 4,
 "nbformat_minor": 4
}
